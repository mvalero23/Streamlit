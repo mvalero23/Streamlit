{
  "cells": [
    {
      "cell_type": "markdown",
      "metadata": {
        "id": "UaEhqEaJyPCJ"
      },
      "source": [
        "##EJERCICIO\n",
        "Predicción de reseña de películas positiva o negativa haciendo uso de modelos diferentes\n",
        "\n",
        "*   Carga\n",
        "*   Limpieza\n",
        "*   Vectorización\n",
        "*   Modelo\n",
        "*   Prueba de accuracy 0.52"
      ]
    },
    {
      "cell_type": "code",
      "execution_count": 1,
      "metadata": {
        "id": "TEnV_gpLu46N"
      },
      "outputs": [],
      "source": [
        "# Importamos las librerías necesarias\n",
        "import pandas as pd\n",
        "import numpy as np\n",
        "import re\n",
        "from bs4 import BeautifulSoup\n",
        "import matplotlib.pyplot as plt\n",
        "import seaborn as sns\n",
        "from sklearn.model_selection import train_test_split, cross_val_score\n",
        "from sklearn.feature_extraction.text import TfidfVectorizer\n",
        "from sklearn.linear_model import LogisticRegression\n",
        "from sklearn.metrics import accuracy_score, classification_report, confusion_matrix, roc_curve, auc\n",
        "from sklearn.preprocessing import LabelEncoder"
      ]
    },
    {
      "cell_type": "markdown",
      "metadata": {
        "id": "BOrF_rhhz_RY"
      },
      "source": [
        "## Carga de archivo"
      ]
    },
    {
      "cell_type": "code",
      "execution_count": 3,
      "metadata": {
        "colab": {
          "base_uri": "https://localhost:8080/"
        },
        "id": "zVxxQz38zipS",
        "outputId": "0efe3626-4dbb-4c75-ed43-6acc8bb41260"
      },
      "outputs": [
        {
          "name": "stdout",
          "output_type": "stream",
          "text": [
            "                                              review sentiment\n",
            "0  One of the other reviewers has mentioned that ...  positive\n",
            "1  A wonderful little production. <br /><br />The...  positive\n",
            "2  I thought this was a wonderful way to spend ti...  positive\n",
            "3  Basically there's a family where a little boy ...  negative\n",
            "4  Petter Mattei's \"Love in the Time of Money\" is...  positive\n"
          ]
        }
      ],
      "source": [
        "# Cargamos el conjunto de datos\n",
        "df = pd.read_csv('Dataset/IMDB Dataset.csv')\n",
        "\n",
        "# Ver las primeras filas del dataframe\n",
        "print(df.head())"
      ]
    },
    {
      "cell_type": "markdown",
      "metadata": {
        "id": "g4RJ7-sE2XeQ"
      },
      "source": [
        "## Limpieza de datos"
      ]
    },
    {
      "cell_type": "code",
      "execution_count": 4,
      "metadata": {
        "colab": {
          "base_uri": "https://localhost:8080/"
        },
        "id": "6tnIhEim2W5a",
        "outputId": "dece4d3b-fc8b-4322-8ed0-97c1932aa51d"
      },
      "outputs": [
        {
          "name": "stderr",
          "output_type": "stream",
          "text": [
            "C:\\Users\\Yerson\\AppData\\Local\\Temp\\ipykernel_15128\\680718885.py:2: MarkupResemblesLocatorWarning: The input looks more like a filename than markup. You may want to open this file and pass the filehandle into Beautiful Soup.\n",
            "  text = BeautifulSoup(text, \"html.parser\").get_text()  # Elimina HTML\n"
          ]
        },
        {
          "name": "stdout",
          "output_type": "stream",
          "text": [
            "Datos después de la limpieza de texto:\n",
            "                                              review sentiment\n",
            "0  one of the other reviewers has mentioned that ...  positive\n",
            "1  a wonderful little production the filming tech...  positive\n",
            "2  i thought this was a wonderful way to spend ti...  positive\n",
            "3  basically theres a family where a little boy j...  negative\n",
            "4  petter matteis love in the time of money is a ...  positive\n"
          ]
        }
      ],
      "source": [
        "def clean_text(text):\n",
        "    text = BeautifulSoup(text, \"html.parser\").get_text()  # Elimina HTML\n",
        "    text = re.sub(r'[^\\w\\s]', '', text)  # Elimina puntuación\n",
        "    text = text.lower()  # Convierte a minúsculas\n",
        "    return text\n",
        "\n",
        "df['review'] = df['review'].apply(clean_text)\n",
        "print(\"Datos después de la limpieza de texto:\")\n",
        "print(df.head())"
      ]
    },
    {
      "cell_type": "code",
      "execution_count": 5,
      "metadata": {
        "colab": {
          "base_uri": "https://localhost:8080/",
          "height": 363
        },
        "id": "bTSigQEt03Zx",
        "outputId": "31789c7d-26c0-41f4-98d4-b062bcd558f2"
      },
      "outputs": [
        {
          "data": {
            "text/html": [
              "<div>\n",
              "<style scoped>\n",
              "    .dataframe tbody tr th:only-of-type {\n",
              "        vertical-align: middle;\n",
              "    }\n",
              "\n",
              "    .dataframe tbody tr th {\n",
              "        vertical-align: top;\n",
              "    }\n",
              "\n",
              "    .dataframe thead th {\n",
              "        text-align: right;\n",
              "    }\n",
              "</style>\n",
              "<table border=\"1\" class=\"dataframe\">\n",
              "  <thead>\n",
              "    <tr style=\"text-align: right;\">\n",
              "      <th></th>\n",
              "      <th>review</th>\n",
              "      <th>sentiment</th>\n",
              "    </tr>\n",
              "  </thead>\n",
              "  <tbody>\n",
              "    <tr>\n",
              "      <th>0</th>\n",
              "      <td>one of the other reviewers has mentioned that ...</td>\n",
              "      <td>positive</td>\n",
              "    </tr>\n",
              "    <tr>\n",
              "      <th>1</th>\n",
              "      <td>a wonderful little production the filming tech...</td>\n",
              "      <td>positive</td>\n",
              "    </tr>\n",
              "    <tr>\n",
              "      <th>2</th>\n",
              "      <td>i thought this was a wonderful way to spend ti...</td>\n",
              "      <td>positive</td>\n",
              "    </tr>\n",
              "    <tr>\n",
              "      <th>3</th>\n",
              "      <td>basically theres a family where a little boy j...</td>\n",
              "      <td>negative</td>\n",
              "    </tr>\n",
              "    <tr>\n",
              "      <th>4</th>\n",
              "      <td>petter matteis love in the time of money is a ...</td>\n",
              "      <td>positive</td>\n",
              "    </tr>\n",
              "    <tr>\n",
              "      <th>5</th>\n",
              "      <td>probably my alltime favorite movie a story of ...</td>\n",
              "      <td>positive</td>\n",
              "    </tr>\n",
              "    <tr>\n",
              "      <th>6</th>\n",
              "      <td>i sure would like to see a resurrection of a u...</td>\n",
              "      <td>positive</td>\n",
              "    </tr>\n",
              "    <tr>\n",
              "      <th>7</th>\n",
              "      <td>this show was an amazing fresh  innovative ide...</td>\n",
              "      <td>negative</td>\n",
              "    </tr>\n",
              "    <tr>\n",
              "      <th>8</th>\n",
              "      <td>encouraged by the positive comments about this...</td>\n",
              "      <td>negative</td>\n",
              "    </tr>\n",
              "    <tr>\n",
              "      <th>9</th>\n",
              "      <td>if you like original gut wrenching laughter yo...</td>\n",
              "      <td>positive</td>\n",
              "    </tr>\n",
              "  </tbody>\n",
              "</table>\n",
              "</div>"
            ],
            "text/plain": [
              "                                              review sentiment\n",
              "0  one of the other reviewers has mentioned that ...  positive\n",
              "1  a wonderful little production the filming tech...  positive\n",
              "2  i thought this was a wonderful way to spend ti...  positive\n",
              "3  basically theres a family where a little boy j...  negative\n",
              "4  petter matteis love in the time of money is a ...  positive\n",
              "5  probably my alltime favorite movie a story of ...  positive\n",
              "6  i sure would like to see a resurrection of a u...  positive\n",
              "7  this show was an amazing fresh  innovative ide...  negative\n",
              "8  encouraged by the positive comments about this...  negative\n",
              "9  if you like original gut wrenching laughter yo...  positive"
            ]
          },
          "execution_count": 5,
          "metadata": {},
          "output_type": "execute_result"
        }
      ],
      "source": [
        "# Exploracion de datos\n",
        "df.head(10)"
      ]
    },
    {
      "cell_type": "markdown",
      "metadata": {
        "id": "FfDAC8iz3MJi"
      },
      "source": [
        "## Vectorizacion"
      ]
    },
    {
      "cell_type": "code",
      "execution_count": 6,
      "metadata": {
        "id": "H3QHsz7P05pz"
      },
      "outputs": [],
      "source": [
        "# Inicializar el vectorizador TF-IDF\n",
        "vectorizer = TfidfVectorizer(max_features=10000)\n",
        "\n",
        "# Ajustar y transformar los datos de entrenamiento\n",
        "X = vectorizer.fit_transform(df['review'])\n",
        "\n",
        "# Las etiquetas\n",
        "y = df['sentiment']"
      ]
    },
    {
      "cell_type": "markdown",
      "metadata": {
        "id": "z8D0PB0-3l5h"
      },
      "source": [
        "## Modelo"
      ]
    },
    {
      "cell_type": "code",
      "execution_count": 7,
      "metadata": {
        "colab": {
          "base_uri": "https://localhost:8080/",
          "height": 1000
        },
        "id": "ZZCk54Gm3ngw",
        "outputId": "688aa3f1-8cf0-46ee-e75d-8d654fab243e"
      },
      "outputs": [
        {
          "name": "stdout",
          "output_type": "stream",
          "text": [
            "Puntajes de Validación Cruzada: [0.88642857 0.88485714 0.88271429 0.88214286 0.88657143]\n",
            "Puntaje Promedio de Validación Cruzada: 0.8845428571428571\n"
          ]
        },
        {
          "data": {
            "image/png": "[encoded data removed]",
            "text/plain": [
              "<Figure size 800x600 with 1 Axes>"
            ]
          },
          "metadata": {},
          "output_type": "display_data"
        },
        {
          "data": {
            "image/png": "[encoded data removed]",
            "text/plain": [
              "<Figure size 800x600 with 1 Axes>"
            ]
          },
          "metadata": {},
          "output_type": "display_data"
        },
        {
          "name": "stdout",
          "output_type": "stream",
          "text": [
            "Exactitud: 0.8913333333333333\n",
            "\n",
            "Informe de Clasificación:\n",
            "               precision    recall  f1-score   support\n",
            "\n",
            "           0       0.90      0.88      0.89      7411\n",
            "           1       0.89      0.90      0.89      7589\n",
            "\n",
            "    accuracy                           0.89     15000\n",
            "   macro avg       0.89      0.89      0.89     15000\n",
            "weighted avg       0.89      0.89      0.89     15000\n",
            "\n",
            "\n",
            "Matriz de Confusión:\n",
            " [[6535  876]\n",
            " [ 754 6835]]\n"
          ]
        }
      ],
      "source": [
        "# Codificar la variable categórica 'sentiment'\n",
        "le = LabelEncoder()\n",
        "df['sentiment'] = le.fit_transform(df['sentiment'])\n",
        "\n",
        "# Separa las variables independientes (reseñas) y la variable objetivo (sentimiento)\n",
        "X = df['review']  # Las reseñas son la característica principal\n",
        "y = df['sentiment']  # Las etiquetas de sentimiento son la variable objetivo\n",
        "\n",
        "# Divide los datos en conjuntos de entrenamiento y prueba\n",
        "X_train, X_test, y_train, y_test = train_test_split(X, y, test_size=0.3, random_state=42)\n",
        "\n",
        "# Preprocesamiento de texto: vectorización TF-IDF\n",
        "tfidf_vectorizer = TfidfVectorizer(max_features=5000)\n",
        "X_train_tfidf = tfidf_vectorizer.fit_transform(X_train)\n",
        "X_test_tfidf = tfidf_vectorizer.transform(X_test)\n",
        "\n",
        "# Entrenamiento del modelo de Regresión Logística\n",
        "modelo = LogisticRegression()\n",
        "modelo.fit(X_train_tfidf, y_train)\n",
        "\n",
        "# Validación cruzada\n",
        "puntajes_validacion_cruzada = cross_val_score(modelo, X_train_tfidf, y_train, cv=5)\n",
        "print(\"Puntajes de Validación Cruzada:\", puntajes_validacion_cruzada)\n",
        "print(\"Puntaje Promedio de Validación Cruzada:\", np.mean(puntajes_validacion_cruzada))\n",
        "\n",
        "# Predicción\n",
        "y_prediccion = modelo.predict(X_test_tfidf)\n",
        "\n",
        "# Evaluación del modelo\n",
        "exactitud = accuracy_score(y_test, y_prediccion)\n",
        "informe_clasificacion = classification_report(y_test, y_prediccion)\n",
        "matriz_confusion = confusion_matrix(y_test, y_prediccion)\n",
        "\n",
        "# Gráfica de la matriz de confusión\n",
        "plt.figure(figsize=(8, 6))\n",
        "sns.heatmap(matriz_confusion, annot=True, fmt=\"d\", cmap=\"Blues\", cbar=False)\n",
        "plt.xlabel(\"Predicho\")\n",
        "plt.ylabel(\"Real\")\n",
        "plt.title(\"Matriz de Confusión\")\n",
        "plt.show()\n",
        "\n",
        "# Gráfica de la curva ROC\n",
        "probabilidad_y = modelo.predict_proba(X_test_tfidf)[:, 1]\n",
        "fpr, tpr, umbrales = roc_curve(y_test, probabilidad_y)\n",
        "area_bajo_curva_roc = auc(fpr, tpr)\n",
        "\n",
        "plt.figure(figsize=(8, 6))\n",
        "plt.plot(fpr, tpr, color='darkorange', lw=2, label='Curva ROC (área = %0.2f)' % area_bajo_curva_roc)\n",
        "plt.plot([0, 1], [0, 1], color='navy', lw=2, linestyle='--')\n",
        "plt.xlim([0.0, 1.0])\n",
        "plt.ylim([0.0, 1.05])\n",
        "plt.xlabel('Tasa de Falsos Positivos')\n",
        "plt.ylabel('Tasa de Verdaderos Positivos')\n",
        "plt.title('Característica Operativa del Receptor (ROC)')\n",
        "plt.legend(loc='lower right')\n",
        "plt.show()\n",
        "\n",
        "# Imprimir las métricas de evaluación\n",
        "print(\"Exactitud:\", exactitud)\n",
        "print(\"\\nInforme de Clasificación:\\n\", informe_clasificacion)\n",
        "print(\"\\nMatriz de Confusión:\\n\", matriz_confusion)"
      ]
    },
    {
      "cell_type": "markdown",
      "metadata": {
        "id": "o3AUQf0r6zcq"
      },
      "source": [
        "## Prueba occuracy\n",
        "\n"
      ]
    },
    {
      "cell_type": "code",
      "execution_count": 8,
      "metadata": {
        "colab": {
          "base_uri": "https://localhost:8080/"
        },
        "id": "F9lNlsRC6zrj",
        "outputId": "ec72a523-e75e-419d-a1a5-bbbc28b0ce55"
      },
      "outputs": [
        {
          "name": "stdout",
          "output_type": "stream",
          "text": [
            "El modelo cumple con el requisito de precisión (> 0.82).\n"
          ]
        }
      ],
      "source": [
        "# Calcular la precisión del modelo\n",
        "precision_modelo = accuracy_score(y_test, y_prediccion)\n",
        "\n",
        "# Realizar la prueba de si la precisión es mayor que 0.82\n",
        "if precision_modelo > 0.82:\n",
        "    print(\"El modelo cumple con el requisito de precisión (> 0.82).\")\n",
        "else:\n",
        "    print(\"El modelo no cumple con el requisito de precisión (> 0.82).\")"
      ]
    },
    {
      "cell_type": "markdown",
      "metadata": {
        "id": "V8e8QoN0Ab37"
      },
      "source": [
        "## PICKLE"
      ]
    },
    {
      "cell_type": "code",
      "execution_count": 9,
      "metadata": {
        "id": "-anAdn0SArHT"
      },
      "outputs": [],
      "source": [
        "import pickle"
      ]
    },
    {
      "cell_type": "code",
      "execution_count": 10,
      "metadata": {
        "id": "mfoSquoKAd1V"
      },
      "outputs": [],
      "source": [
        "# Guardar el modelo y el vectorizador\n",
        "with open('logistic_model.pkl', 'wb') as model_file:\n",
        "    pickle.dump(modelo, model_file)\n",
        "\n",
        "with open('tfidf_vectorizer.pkl', 'wb') as vectorizer_file:\n",
        "    pickle.dump(tfidf_vectorizer, vectorizer_file)"
      ]
    },
    {
      "cell_type": "markdown",
      "metadata": {
        "id": "XyWsb5IBJrEV"
      },
      "source": [
        "## Uso de Streamlit"
      ]
    },
    {
      "cell_type": "code",
      "execution_count": 12,
      "metadata": {
        "colab": {
          "base_uri": "https://localhost:8080/"
        },
        "id": "p96xWfhAKlgW",
        "outputId": "dd0980fc-e5f8-455f-99a9-d39a62e9b114"
      },
      "outputs": [
        {
          "name": "stdout",
          "output_type": "stream",
          "text": [
            "Writing app.py\n"
          ]
        }
      ],
      "source": [
        "%%writefile app.py\n",
        "\n",
        "import streamlit as st\n",
        "import numpy as np\n",
        "import pickle\n",
        "from bs4 import BeautifulSoup\n",
        "import re\n",
        "\n",
        "# Cargar el modelo y el vectorizador TF-IDF\n",
        "with open('logistic_model.pkl', 'rb') as model_file:\n",
        "    modelo = pickle.load(model_file)\n",
        "\n",
        "with open('tfidf_vectorizer.pkl', 'rb') as vectorizer_file:\n",
        "    tfidf_vectorizer = pickle.load(vectorizer_file)\n",
        "\n",
        "st.title(\"Predict Reviews' Sentiment\")\n",
        "\n",
        "# Entrada de la reseña\n",
        "review = st.text_input(\"Ingrese la reseña:\")\n",
        "\n",
        "if st.button(\"Predicción\"):\n",
        "    # Preprocesar y vectorizar la reseña\n",
        "    review_cleaned = BeautifulSoup(review, \"html.parser\").get_text()\n",
        "    review_cleaned = re.sub(r'[^\\w\\s]', '', review_cleaned)\n",
        "    review_cleaned = review_cleaned.lower()\n",
        "    review_vectorized = tfidf_vectorizer.transform([review_cleaned])\n",
        "\n",
        "    # Predicción\n",
        "    pred = modelo.predict(review_vectorized)[0]\n",
        "\n",
        "    if pred == 0:\n",
        "        st.write(\"La reseña es Negativa\")\n",
        "    else:\n",
        "        st.write(\"La reseña es Positiva\")"
      ]
    }
  ],
  "metadata": {
    "colab": {
      "provenance": []
    },
    "kernelspec": {
      "display_name": "Python 3",
      "name": "python3"
    },
    "language_info": {
      "codemirror_mode": {
        "name": "ipython",
        "version": 3
      },
      "file_extension": ".py",
      "mimetype": "text/x-python",
      "name": "python",
      "nbconvert_exporter": "python",
      "pygments_lexer": "ipython3",
      "version": "3.11.9"
    }
  },
  "nbformat": 4,
  "nbformat_minor": 0
}
